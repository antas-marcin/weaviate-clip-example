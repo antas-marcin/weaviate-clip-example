{
 "cells": [
  {
   "cell_type": "code",
   "execution_count": null,
   "metadata": {},
   "outputs": [],
   "source": [
    "import weaviate\n",
    "from weaviate.classes.config import Property, DataType, Configure\n",
    "from weaviate.util import generate_uuid5"
   ]
  },
  {
   "cell_type": "code",
   "execution_count": null,
   "metadata": {},
   "outputs": [],
   "source": [
    "client = weaviate.connect_to_local()"
   ]
  },
  {
   "cell_type": "code",
   "execution_count": null,
   "metadata": {},
   "outputs": [],
   "source": [
    "if client.collections.exists(\"Books\"):\n",
    "    client.collections.delete(\"Books\")"
   ]
  },
  {
   "cell_type": "code",
   "execution_count": null,
   "metadata": {},
   "outputs": [],
   "source": [
    "books = client.collections.create(\n",
    "        name=\"Books\",\n",
    "        properties=[\n",
    "            Property(name=\"title\", data_type=DataType.TEXT),\n",
    "            Property(name=\"year\", data_type=DataType.INT),\n",
    "            Property(name=\"avg_rating\", data_type=DataType.NUMBER),\n",
    "            Property(name=\"author\", data_type=DataType.TEXT),\n",
    "            Property(name=\"description\", data_type=DataType.TEXT),\n",
    "            Property(name=\"length\", data_type=DataType.NUMBER),\n",
    "            Property(name=\"cover_image\", data_type=DataType.TEXT),\n",
    "            Property(name=\"cover_image_blob\", data_type=DataType.BLOB),\n",
    "        ],\n",
    "        vector_config=[\n",
    "            Configure.Vectors.multi2vec_clip(\n",
    "                name=\"laion\",\n",
    "                image_fields=[\"cover_image_blob\"],\n",
    "                vector_index_config=Configure.VectorIndex.hnsw(),\n",
    "                quantizer=Configure.VectorIndex.Quantizer.rq(),\n",
    "            ),\n",
    "            Configure.Vectors.multi2vec_clip(\n",
    "                name=\"siglip2\",\n",
    "                image_fields=[\"cover_image_blob\"],\n",
    "                inference_url=\"http://google-siglip2-so400m-patch16-384:8080\",\n",
    "                vector_index_config=Configure.VectorIndex.hnsw(),\n",
    "                quantizer=Configure.VectorIndex.Quantizer.rq(),\n",
    "            ),\n",
    "        ],\n",
    "    )"
   ]
  },
  {
   "cell_type": "markdown",
   "metadata": {},
   "source": [
    "Prepare data"
   ]
  },
  {
   "cell_type": "code",
   "execution_count": null,
   "metadata": {},
   "outputs": [],
   "source": [
    "from datasets import load_from_disk\n",
    "from helpers import get_first_n_elements\n",
    "\n",
    "weaviate_data = load_from_disk(dataset_path=\"../.data/datasets_saved_to_disk/books\")\n",
    "weaviate_data = get_first_n_elements(weaviate_data, 100)\n",
    "\n",
    "len(weaviate_data)"
   ]
  },
  {
   "cell_type": "markdown",
   "metadata": {},
   "source": [
    "Import data and generate embeddings"
   ]
  },
  {
   "cell_type": "code",
   "execution_count": null,
   "metadata": {},
   "outputs": [],
   "source": [
    "books = client.collections.get(\"Books\")\n",
    "\n",
    "with books.batch.dynamic() as batch:\n",
    "    for d in weaviate_data:\n",
    "        batch.add_object(properties=d, uuid=generate_uuid5(d[\"title\"]))\n",
    "    batch.flush()"
   ]
  },
  {
   "cell_type": "code",
   "execution_count": null,
   "metadata": {},
   "outputs": [],
   "source": [
    "books = client.collections.get(\"Books\")"
   ]
  },
  {
   "cell_type": "code",
   "execution_count": null,
   "metadata": {},
   "outputs": [],
   "source": [
    "res = books.query.fetch_objects(limit=10, include_vector=True)\n",
    "\n",
    "for o in res.objects:\n",
    "    print(f\"id={o.uuid} url={o.properties[\"cover_image\"]} len(vector[\\\"siglip2\\\"]): {len(o.vector[\"siglip2\"])} len(vector[\\\"laion\\\"]): {len(o.vector[\"laion\"])}\")"
   ]
  },
  {
   "cell_type": "markdown",
   "metadata": {},
   "source": [
    "Perform text search over images using laion vector index"
   ]
  },
  {
   "cell_type": "code",
   "execution_count": null,
   "metadata": {},
   "outputs": [],
   "source": [
    "from helpers import display_book_results\n",
    "\n",
    "res = books.query.near_text(query=\"stars in the sky\", target_vector=\"laion\", limit=10)\n",
    "display_book_results(res)"
   ]
  },
  {
   "cell_type": "markdown",
   "metadata": {},
   "source": [
    "Perform text search over images using siglip2 vector index"
   ]
  },
  {
   "cell_type": "code",
   "execution_count": null,
   "metadata": {},
   "outputs": [],
   "source": [
    "from helpers import display_book_results\n",
    "\n",
    "res = books.query.near_text(query=\"stars in the sky\", target_vector=\"siglip2\", limit=10)\n",
    "display_book_results(res)"
   ]
  },
  {
   "cell_type": "markdown",
   "metadata": {},
   "source": [
    "Perform text search over images using both siglip2 and laion vector index"
   ]
  },
  {
   "cell_type": "code",
   "execution_count": null,
   "metadata": {},
   "outputs": [],
   "source": [
    "from helpers import display_book_results\n",
    "from weaviate.classes.query import TargetVectors\n",
    "\n",
    "res = books.query.near_text(\n",
    "    query=\"stars in the sky\", \n",
    "    target_vector=TargetVectors.sum([\"siglip2\", \"laion\"]), \n",
    "    limit=10\n",
    ")\n",
    "display_book_results(res)"
   ]
  },
  {
   "cell_type": "markdown",
   "metadata": {},
   "source": [
    "Find similar images"
   ]
  },
  {
   "cell_type": "code",
   "execution_count": null,
   "metadata": {},
   "outputs": [],
   "source": [
    "from helpers import display_book_results, get_image_blob\n",
    "\n",
    "res = books.query.near_image(\n",
    "    near_image=get_image_blob(\"https://images.gr-assets.com/books/1347352439l/333766.jpg\"), \n",
    "    target_vector=\"laion\", \n",
    "    limit=10\n",
    ")\n",
    "display_book_results(res)"
   ]
  },
  {
   "cell_type": "code",
   "execution_count": null,
   "metadata": {},
   "outputs": [],
   "source": [
    "from helpers import display_book_results, get_image_blob\n",
    "\n",
    "res = books.query.near_image(\n",
    "    near_image=get_image_blob(\"https://images.gr-assets.com/books/1347352439l/333766.jpg\"), \n",
    "    target_vector=\"siglip2\", \n",
    "    limit=10\n",
    ")\n",
    "display_book_results(res)"
   ]
  },
  {
   "cell_type": "markdown",
   "metadata": {},
   "source": [
    "Hybrid search"
   ]
  },
  {
   "cell_type": "code",
   "execution_count": null,
   "metadata": {},
   "outputs": [],
   "source": [
    "from helpers import display_book_results, get_image_blob\n",
    "from weaviate.classes.query import TargetVectors\n",
    "\n",
    "res = books.query.hybrid(\n",
    "    query=\"James Ramsey\",\n",
    "    query_properties=[\"title\",\"description\"],\n",
    "    target_vector=[\"laion\"], \n",
    "    limit=10,\n",
    ")\n",
    "display_book_results(res)"
   ]
  },
  {
   "cell_type": "code",
   "execution_count": null,
   "metadata": {},
   "outputs": [],
   "source": [
    "client.close()"
   ]
  }
 ],
 "metadata": {
  "kernelspec": {
   "display_name": ".venv",
   "language": "python",
   "name": "python3"
  },
  "language_info": {
   "codemirror_mode": {
    "name": "ipython",
    "version": 3
   },
   "file_extension": ".py",
   "mimetype": "text/x-python",
   "name": "python",
   "nbconvert_exporter": "python",
   "pygments_lexer": "ipython3",
   "version": "3.13.5"
  }
 },
 "nbformat": 4,
 "nbformat_minor": 2
}
