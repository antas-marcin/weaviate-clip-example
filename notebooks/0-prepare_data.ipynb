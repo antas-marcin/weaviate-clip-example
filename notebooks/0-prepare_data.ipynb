{
 "cells": [
  {
   "cell_type": "code",
   "execution_count": null,
   "metadata": {},
   "outputs": [],
   "source": [
    "from base64 import b64encode\n",
    "import requests\n",
    "\n",
    "def get_image_blob(url: str) -> str:\n",
    "    resp = requests.get(url)\n",
    "    if resp.status_code == 200:\n",
    "        return b64encode(resp.content).decode(\"utf-8\")\n",
    "    return \"\""
   ]
  },
  {
   "cell_type": "markdown",
   "metadata": {},
   "source": [
    "### Books"
   ]
  },
  {
   "cell_type": "code",
   "execution_count": null,
   "metadata": {},
   "outputs": [],
   "source": [
    "from datasets import load_dataset\n",
    "\n",
    "data = load_dataset(\"ada-datadruids/books\", cache_dir=\"../.data/datasets\", split=\"train\")"
   ]
  },
  {
   "cell_type": "code",
   "execution_count": null,
   "metadata": {},
   "outputs": [],
   "source": [
    "weaviate_data = data.map(lambda x: {\n",
    "    \"cover_image_blob\": get_image_blob(x[\"cover_image\"]),\n",
    "}).remove_columns([\"book_id\",\"rating_count\",\"review_count\",\"series\",\"series_num\",\"five_stars\",\"four_stars\",\"three_stars\",\"two_stars\",\"one_star\",\"standardized_rating\",\"normalized_rating\"])"
   ]
  },
  {
   "cell_type": "code",
   "execution_count": null,
   "metadata": {},
   "outputs": [],
   "source": [
    "len(weaviate_data)"
   ]
  },
  {
   "cell_type": "code",
   "execution_count": null,
   "metadata": {},
   "outputs": [],
   "source": [
    "broken_books = [\"Take Three Tenses: A Fugue in Time\", \"Beloved\", \"Live Flesh\", \"On Stranger Tides\",\n",
    "                \"Funny Farm\", \"Back Street\", \"Evil Come, Evil Go\", \"Fighting Caravans\"]\n",
    "\n",
    "weaviate_data = weaviate_data.filter(lambda example: example[\"title\"] not in broken_books)"
   ]
  },
  {
   "cell_type": "code",
   "execution_count": null,
   "metadata": {},
   "outputs": [],
   "source": [
    "len(weaviate_data)"
   ]
  },
  {
   "cell_type": "markdown",
   "metadata": {},
   "source": [
    "Save the data with images converted to base64 strings"
   ]
  },
  {
   "cell_type": "code",
   "execution_count": null,
   "metadata": {},
   "outputs": [],
   "source": [
    "weaviate_data.save_to_disk(dataset_path=\"../.data/datasets_saved_to_disk/books\")"
   ]
  },
  {
   "cell_type": "markdown",
   "metadata": {},
   "source": [
    "### Amazon"
   ]
  },
  {
   "cell_type": "code",
   "execution_count": null,
   "metadata": {},
   "outputs": [],
   "source": [
    "from datasets import load_dataset\n",
    "\n",
    "data = load_dataset(\"bprateek/amazon_product_description\", cache_dir=\"../.data/datasets\", split=\"train\")"
   ]
  },
  {
   "cell_type": "code",
   "execution_count": null,
   "metadata": {},
   "outputs": [],
   "source": [
    "from helpers import get_image_blob\n",
    "\n",
    "amazon_data = data.map(lambda x: {\n",
    "    \"name\": x[\"Product Name\"],\n",
    "    \"description\": x[\"About Product\"],\n",
    "    \"technical_details\": x[\"Technical Details\"],\n",
    "    \"image_url\": x[\"Image\"],\n",
    "    \"image_blob\": get_image_blob(x[\"Image\"]),\n",
    "}).remove_columns([\"Uniq Id\", \"Product Name\", \"Brand Name\", \"Asin\", \"Category\", \"Upc Ean Code\", \"List Price\", \"Selling Price\", \"Quantity\", \"Model Number\", \"About Product\", \"Product Specification\", \"Technical Details\", \"Shipping Weight\", \"Product Dimensions\", \"Image\", \"Variants\", \"Sku\", \"Product Url\", \"Stock\", \"Product Details\", \"Dimensions\", \"Color\", \"Ingredients\", \"Direction To Use\", \"Is Amazon Seller\", \"Size Quantity Variant\", \"Product Description\"])"
   ]
  },
  {
   "cell_type": "code",
   "execution_count": null,
   "metadata": {},
   "outputs": [],
   "source": [
    "amazon_data"
   ]
  },
  {
   "cell_type": "markdown",
   "metadata": {},
   "source": [
    "Save the data with images converted to base64 strings"
   ]
  },
  {
   "cell_type": "code",
   "execution_count": null,
   "metadata": {},
   "outputs": [],
   "source": [
    "amazon_data.save_to_disk(dataset_path=\"../.data/datasets_saved_to_disk/amazon\")"
   ]
  }
 ],
 "metadata": {
  "kernelspec": {
   "display_name": ".venv",
   "language": "python",
   "name": "python3"
  },
  "language_info": {
   "codemirror_mode": {
    "name": "ipython",
    "version": 3
   },
   "file_extension": ".py",
   "mimetype": "text/x-python",
   "name": "python",
   "nbconvert_exporter": "python",
   "pygments_lexer": "ipython3",
   "version": "3.13.5"
  }
 },
 "nbformat": 4,
 "nbformat_minor": 2
}
