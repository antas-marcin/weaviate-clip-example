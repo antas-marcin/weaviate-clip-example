{
 "cells": [
  {
   "cell_type": "code",
   "execution_count": null,
   "metadata": {},
   "outputs": [],
   "source": [
    "import weaviate\n",
    "from weaviate.classes.config import Property, DataType, Configure\n",
    "from weaviate.util import generate_uuid5"
   ]
  },
  {
   "cell_type": "code",
   "execution_count": null,
   "metadata": {},
   "outputs": [],
   "source": [
    "client = weaviate.connect_to_local()"
   ]
  },
  {
   "cell_type": "code",
   "execution_count": null,
   "metadata": {},
   "outputs": [],
   "source": [
    "if client.collections.exists(\"Amazon\"):\n",
    "    client.collections.delete(\"Amazon\")"
   ]
  },
  {
   "cell_type": "code",
   "execution_count": null,
   "metadata": {},
   "outputs": [],
   "source": [
    "amazon = client.collections.create(\n",
    "        name=\"Amazon\",\n",
    "        properties=[\n",
    "            Property(name=\"name\", data_type=DataType.TEXT),\n",
    "            Property(name=\"description\", data_type=DataType.TEXT),\n",
    "            Property(name=\"technical_details\", data_type=DataType.TEXT),\n",
    "            Property(name=\"image_url\", data_type=DataType.TEXT),\n",
    "            Property(name=\"image_blob\", data_type=DataType.BLOB),\n",
    "        ],\n",
    "        vector_config=[\n",
    "            Configure.Vectors.multi2vec_clip(\n",
    "                name=\"laion\",\n",
    "                image_fields=[\"image_blob\"],\n",
    "                vector_index_config=Configure.VectorIndex.hnsw(),\n",
    "                quantizer=Configure.VectorIndex.Quantizer.rq(),\n",
    "            ),\n",
    "            Configure.Vectors.multi2vec_clip(\n",
    "                name=\"siglip2\",\n",
    "                image_fields=[\"image_blob\"],\n",
    "                inference_url=\"http://google-siglip2-so400m-patch16-384:8080\",\n",
    "                vector_index_config=Configure.VectorIndex.hnsw(),\n",
    "                quantizer=Configure.VectorIndex.Quantizer.rq(),\n",
    "            ),\n",
    "        ],\n",
    "    )"
   ]
  },
  {
   "cell_type": "markdown",
   "metadata": {},
   "source": [
    "Prepare data\n"
   ]
  },
  {
   "cell_type": "code",
   "execution_count": null,
   "metadata": {},
   "outputs": [],
   "source": [
    "from datasets import load_from_disk\n",
    "from helpers import get_first_n_elements\n",
    "\n",
    "weaviate_data = load_from_disk(dataset_path=\"../.data/datasets_saved_to_disk/amazon\")\n",
    "weaviate_data = get_first_n_elements(weaviate_data, 100)\n",
    "\n",
    "len(weaviate_data)"
   ]
  },
  {
   "cell_type": "code",
   "execution_count": null,
   "metadata": {},
   "outputs": [],
   "source": [
    "amazon = client.collections.get(\"Amazon\")\n",
    "\n",
    "with amazon.batch.dynamic() as batch:\n",
    "    for d in weaviate_data:\n",
    "        batch.add_object(properties=d, uuid=generate_uuid5(d[\"name\"]))\n",
    "    batch.flush()"
   ]
  },
  {
   "cell_type": "code",
   "execution_count": null,
   "metadata": {},
   "outputs": [],
   "source": [
    "amazon = client.collections.get(\"Amazon\")"
   ]
  },
  {
   "cell_type": "code",
   "execution_count": null,
   "metadata": {},
   "outputs": [],
   "source": [
    "from helpers import display_amazon_results\n",
    "\n",
    "res = amazon.query.near_text(query=\"bicycle\", target_vector=\"laion\", limit=10)\n",
    "display_amazon_results(res)"
   ]
  },
  {
   "cell_type": "code",
   "execution_count": null,
   "metadata": {},
   "outputs": [],
   "source": [
    "from helpers import display_amazon_results\n",
    "\n",
    "res = amazon.query.near_text(query=\"bicycle\", target_vector=\"siglip2\", limit=10)\n",
    "display_amazon_results(res)"
   ]
  },
  {
   "cell_type": "markdown",
   "metadata": {},
   "source": [
    "Perform image similarity search"
   ]
  },
  {
   "cell_type": "code",
   "execution_count": null,
   "metadata": {},
   "outputs": [],
   "source": [
    "from helpers import display_amazon_results, get_image_blob\n",
    "\n",
    "res = amazon.query.near_image(\n",
    "    near_image=get_image_blob(\"https://images-na.ssl-images-amazon.com/images/I/41bejMzMMgL.jpg\"), \n",
    "    target_vector=\"laion\", \n",
    "    limit=10\n",
    ")\n",
    "display_amazon_results(res)"
   ]
  },
  {
   "cell_type": "code",
   "execution_count": null,
   "metadata": {},
   "outputs": [],
   "source": [
    "from helpers import display_amazon_results, get_image_blob\n",
    "\n",
    "res = amazon.query.near_image(\n",
    "    near_image=get_image_blob(\"https://images-na.ssl-images-amazon.com/images/I/41bejMzMMgL.jpg\"), \n",
    "    target_vector=\"siglip2\", \n",
    "    limit=10\n",
    ")\n",
    "display_amazon_results(res)"
   ]
  }
 ],
 "metadata": {
  "kernelspec": {
   "display_name": ".venv",
   "language": "python",
   "name": "python3"
  },
  "language_info": {
   "codemirror_mode": {
    "name": "ipython",
    "version": 3
   },
   "file_extension": ".py",
   "mimetype": "text/x-python",
   "name": "python",
   "nbconvert_exporter": "python",
   "pygments_lexer": "ipython3",
   "version": "3.13.5"
  }
 },
 "nbformat": 4,
 "nbformat_minor": 2
}
